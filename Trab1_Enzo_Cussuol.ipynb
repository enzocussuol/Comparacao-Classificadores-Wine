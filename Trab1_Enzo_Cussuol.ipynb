{
 "cells": [
  {
   "cell_type": "markdown",
   "id": "a2e9d3af",
   "metadata": {},
   "source": [
    "# Primeiro Trabalho de Inteligência Artificial e Sistemas Inteligentes\n",
    "\n",
    "## Aluno: Enzo B. Cussuol"
   ]
  },
  {
   "cell_type": "markdown",
   "id": "8d601e8d",
   "metadata": {},
   "source": [
    "O primeiro passo para resolução do trabalho é definir qual será a base de dados utilizada. Irei utilizar a base de dados *wine* da biblioteca *scikit-learn*.\n",
    "\n",
    "A documentação referente ao *wine* encontra-se nesse [link](https://scikit-learn.org/stable/modules/generated/sklearn.datasets.load_wine.html)."
   ]
  },
  {
   "cell_type": "code",
   "execution_count": 15,
   "id": "fdbf58f4",
   "metadata": {},
   "outputs": [],
   "source": [
    "from sklearn import datasets\n",
    "\n",
    "wine = datasets.load_wine()\n",
    "wine_x = wine.data\n",
    "wine_y = wine.target"
   ]
  },
  {
   "cell_type": "markdown",
   "id": "11f2cc4e",
   "metadata": {},
   "source": [
    "Podemos utilizar a biblioteca *pandas* para auxiliar na visualização da base de dados."
   ]
  },
  {
   "cell_type": "code",
   "execution_count": 16,
   "id": "8249ba91",
   "metadata": {},
   "outputs": [
    {
     "name": "stdout",
     "output_type": "stream",
     "text": [
      "     alcohol  malic_acid   ash  alcalinity_of_ash  magnesium  total_phenols  \\\n",
      "0      14.23        1.71  2.43               15.6      127.0           2.80   \n",
      "1      13.20        1.78  2.14               11.2      100.0           2.65   \n",
      "2      13.16        2.36  2.67               18.6      101.0           2.80   \n",
      "3      14.37        1.95  2.50               16.8      113.0           3.85   \n",
      "4      13.24        2.59  2.87               21.0      118.0           2.80   \n",
      "..       ...         ...   ...                ...        ...            ...   \n",
      "173    13.71        5.65  2.45               20.5       95.0           1.68   \n",
      "174    13.40        3.91  2.48               23.0      102.0           1.80   \n",
      "175    13.27        4.28  2.26               20.0      120.0           1.59   \n",
      "176    13.17        2.59  2.37               20.0      120.0           1.65   \n",
      "177    14.13        4.10  2.74               24.5       96.0           2.05   \n",
      "\n",
      "     flavanoids  nonflavanoid_phenols  proanthocyanins  color_intensity   hue  \\\n",
      "0          3.06                  0.28             2.29             5.64  1.04   \n",
      "1          2.76                  0.26             1.28             4.38  1.05   \n",
      "2          3.24                  0.30             2.81             5.68  1.03   \n",
      "3          3.49                  0.24             2.18             7.80  0.86   \n",
      "4          2.69                  0.39             1.82             4.32  1.04   \n",
      "..          ...                   ...              ...              ...   ...   \n",
      "173        0.61                  0.52             1.06             7.70  0.64   \n",
      "174        0.75                  0.43             1.41             7.30  0.70   \n",
      "175        0.69                  0.43             1.35            10.20  0.59   \n",
      "176        0.68                  0.53             1.46             9.30  0.60   \n",
      "177        0.76                  0.56             1.35             9.20  0.61   \n",
      "\n",
      "     od280/od315_of_diluted_wines  proline  target  \n",
      "0                            3.92   1065.0     0.0  \n",
      "1                            3.40   1050.0     0.0  \n",
      "2                            3.17   1185.0     0.0  \n",
      "3                            3.45   1480.0     0.0  \n",
      "4                            2.93    735.0     0.0  \n",
      "..                            ...      ...     ...  \n",
      "173                          1.74    740.0     2.0  \n",
      "174                          1.56    750.0     2.0  \n",
      "175                          1.56    835.0     2.0  \n",
      "176                          1.62    840.0     2.0  \n",
      "177                          1.60    560.0     2.0  \n",
      "\n",
      "[178 rows x 14 columns]\n"
     ]
    }
   ],
   "source": [
    "import numpy as np\n",
    "import pandas as pd\n",
    "\n",
    "df = pd.DataFrame(data = np.c_[wine_x, wine_y],\n",
    "                 columns = wine['feature_names'] + ['target'])\n",
    "print(df)"
   ]
  },
  {
   "cell_type": "markdown",
   "id": "50dc9f27",
   "metadata": {},
   "source": [
    "Podemos ver que temos 178 instâncias, 13 características com valores numéricos e 3 classes, tal como consta na documentação da base de dados."
   ]
  },
  {
   "cell_type": "markdown",
   "id": "1e473e7b",
   "metadata": {},
   "source": [
    "Com a base de dados disponível, podemos criar os classificadores. Como foi informado no trabalho, iremos utilizar o ZeroR (ZR), Naive Bayes Gaussiano (NBG), KMeans Centroides (KMC), K Vizinhos Mais Próximos (KNN) e Árvore de Decisão (AD). As implementações dos classificadores estão disponíveis no *scikit-learn*, com exceção do KMC, que será implementado manualmente."
   ]
  },
  {
   "cell_type": "code",
   "execution_count": 17,
   "id": "e8adec17",
   "metadata": {},
   "outputs": [],
   "source": [
    "from sklearn.dummy import DummyClassifier\n",
    "from sklearn.naive_bayes import GaussianNB\n",
    "from sklearn.neighbors import KNeighborsClassifier\n",
    "from sklearn.tree import DecisionTreeClassifier\n",
    "\n",
    "zR = DummyClassifier()\n",
    "gNB = GaussianNB()\n",
    "dKNN = KNeighborsClassifier()\n",
    "dT = DecisionTreeClassifier()"
   ]
  },
  {
   "cell_type": "markdown",
   "id": "7b5714fc",
   "metadata": {},
   "source": [
    "E a implementação do KMC:"
   ]
  },
  {
   "cell_type": "code",
   "execution_count": 18,
   "id": "217d8af9",
   "metadata": {},
   "outputs": [],
   "source": [
    "from sklearn.base import BaseEstimator\n",
    "from sklearn.cluster import KMeans\n",
    "from sklearn.utils.multiclass import unique_labels\n",
    "import sys\n",
    "from scipy.spatial import distance\n",
    "\n",
    "class KMC(BaseEstimator):\n",
    "    def __init__(self, k = 1):\n",
    "        super().__init__()\n",
    "        self.k = k\n",
    "        self.centroides = []\n",
    "    \n",
    "    def fit(self,x_train,y_train):\n",
    "        for classe in unique_labels(y_train):\n",
    "            kM = KMeans(n_clusters = self.k)\n",
    "            kM.fit(x_train[y_train == classe])\n",
    "            self.centroides.append((kM.cluster_centers_, classe))\n",
    "        \n",
    "    def predict(self,x_test):\n",
    "        predicoes = []\n",
    "        \n",
    "        for x in x_test:\n",
    "            menorDistancia = sys.maxsize\n",
    "            for centroidesPorClasse in self.centroides:\n",
    "                for centroide in centroidesPorClasse[0]:\n",
    "                    distancia = distance.euclidean(x, centroide)\n",
    "                    if(distancia < menorDistancia):\n",
    "                        menorDistancia = distancia\n",
    "                        classePredita = centroidesPorClasse[1]\n",
    "            predicoes.append(classePredita)\n",
    "            \n",
    "        return predicoes\n",
    "\n",
    "kMC = KMC()"
   ]
  },
  {
   "cell_type": "markdown",
   "id": "ea084942",
   "metadata": {},
   "source": [
    "Agora que temos todos os classificadores, podemos treinar e testar os modelos. Para os classificadores ZR e NBG iremos utilizar 3 rodadas de validação cruzada estratificada de 10 folds."
   ]
  },
  {
   "cell_type": "code",
   "execution_count": 19,
   "id": "15427790",
   "metadata": {},
   "outputs": [],
   "source": [
    "from sklearn.model_selection import cross_val_score\n",
    "from sklearn.model_selection import RepeatedStratifiedKFold\n",
    "from sklearn.preprocessing import StandardScaler\n",
    "from sklearn.pipeline import Pipeline\n",
    "\n",
    "rkf = RepeatedStratifiedKFold(n_splits = 10, n_repeats = 3, \n",
    "                              random_state=36851234)\n",
    "\n",
    "scalar = StandardScaler()\n",
    "\n",
    "pipeline = Pipeline([('transformer', scalar), ('estimator', zR)])\n",
    "scoresZR = cross_val_score(pipeline, wine_x, wine_y, scoring='accuracy', \n",
    "                           cv = rkf)\n",
    "\n",
    "pipeline = Pipeline([('transformer', scalar), ('estimator', gNB)])\n",
    "scoresGNB = cross_val_score(pipeline, wine_x, wine_y, scoring='accuracy', \n",
    "                           cv = rkf)"
   ]
  },
  {
   "cell_type": "markdown",
   "id": "61b4a69d",
   "metadata": {},
   "source": [
    "Para os classificadores KMC, KNN e AD iremos utilizar as mesmas 3 rodadas de validação cruzada estratificada de 10 folds, porém adicionando um ciclo interno de validação contendo 4 folds. Os valores de hiperparâmetros em cada ciclo interno seguirão as espeficações do trabalho, onde: KMC: [k = 1, 3, 5, 7], KNN: [n_neighbors = 1, 3, 5, 7] e AD: [max_depth = None, 3, 5, 10]."
   ]
  },
  {
   "cell_type": "code",
   "execution_count": 20,
   "id": "c58fbcbd",
   "metadata": {},
   "outputs": [],
   "source": [
    "from sklearn.model_selection import GridSearchCV\n",
    "from sklearn.model_selection import StratifiedKFold\n",
    "\n",
    "pipeline = Pipeline([('transformer', scalar), ('estimator', kMC)])\n",
    "grade = {'estimator__k': [1, 3, 5, 7]}\n",
    "\n",
    "gs = GridSearchCV(estimator=pipeline, param_grid = grade, \n",
    "                  scoring='accuracy', cv = StratifiedKFold(4))\n",
    "\n",
    "scoresKMC = cross_val_score(gs, wine_x, wine_y, scoring='accuracy', \n",
    "                            cv = rkf)\n",
    "\n",
    "pipeline = Pipeline([('transformer', scalar), ('estimator', dKNN)])\n",
    "grade = {'estimator__n_neighbors': [1, 3, 5, 7]}\n",
    "\n",
    "gs = GridSearchCV(estimator=pipeline, param_grid = grade, \n",
    "                  scoring='accuracy', cv = 4)\n",
    "\n",
    "scoresDKNN = cross_val_score(gs, wine_x, wine_y, scoring='accuracy', \n",
    "                            cv = rkf)\n",
    "\n",
    "pipeline = Pipeline([('transformer', scalar), ('estimator', dT)])\n",
    "grade = {'estimator__max_depth': [None, 3, 5, 10]}\n",
    "\n",
    "gs = GridSearchCV(estimator=pipeline, param_grid = grade, \n",
    "                  scoring='accuracy', cv = 4)\n",
    "\n",
    "scoresDT = cross_val_score(gs, wine_x, wine_y, scoring='accuracy', \n",
    "                           cv = rkf)"
   ]
  },
  {
   "cell_type": "markdown",
   "id": "4a9c70a7",
   "metadata": {},
   "source": [
    "Note que foi utilizada a normalização z-score nos treinamentos tal como requisitado pela documentação do trabalho."
   ]
  },
  {
   "cell_type": "markdown",
   "id": "dcdf3726",
   "metadata": {},
   "source": [
    "Para comparar os resultados obtidos pelos classificadores, vamos utilizar as métricas média, desvio padrão, limite inferior e limite superior. Esses dados podem ser organizados na seguinte tabela:"
   ]
  },
  {
   "cell_type": "code",
   "execution_count": 21,
   "id": "6904859e",
   "metadata": {},
   "outputs": [
    {
     "name": "stdout",
     "output_type": "stream",
     "text": [
      "  Método     Média  Desvio Padrão  Limite Inferior  Limite Superior\n",
      "0     ZR  0.399346       0.024707         0.390505         0.408188\n",
      "1     NB  0.973420       0.048205         0.956171         0.990670\n",
      "2    KMC  0.962200       0.051889         0.943633         0.980768\n",
      "3    KNN  0.960458       0.053188         0.941425         0.979490\n",
      "4     AD  0.899020       0.065666         0.875522         0.922517\n"
     ]
    }
   ],
   "source": [
    "from scipy import stats\n",
    "\n",
    "def processaResultados(scores):\n",
    "    mean = scores.mean()\n",
    "    std = scores.std()\n",
    "    inf, sup = stats.norm.interval(0.95, loc=mean, \n",
    "                               scale=std/np.sqrt(len(scores)))\n",
    "    \n",
    "    return mean, std, inf, sup\n",
    "\n",
    "tabelaResultados = []\n",
    "\n",
    "resultados = processaResultados(scoresZR)\n",
    "tabelaResultados.append(['ZR', resultados[0], resultados[1], resultados[2], resultados[3]])\n",
    "\n",
    "resultados = processaResultados(scoresGNB)\n",
    "tabelaResultados.append(['NB', resultados[0], resultados[1], resultados[2], resultados[3]])\n",
    "\n",
    "resultados = processaResultados(scoresKMC)\n",
    "tabelaResultados.append(['KMC', resultados[0], resultados[1], resultados[2], resultados[3]])\n",
    "\n",
    "resultados = processaResultados(scoresDKNN)\n",
    "tabelaResultados.append(['KNN', resultados[0], resultados[1], resultados[2], resultados[3]])\n",
    "\n",
    "resultados = processaResultados(scoresDT)\n",
    "tabelaResultados.append(['AD', resultados[0], resultados[1], resultados[2], resultados[3]])\n",
    "\n",
    "df = pd.DataFrame(tabelaResultados, columns = ['Método', 'Média', 'Desvio Padrão', 'Limite Inferior', 'Limite Superior'])\n",
    "print(df)"
   ]
  },
  {
   "cell_type": "markdown",
   "id": "fe65acb7",
   "metadata": {},
   "source": [
    "Além da tabela, podemos representar os resultados através de gráficos boxplot."
   ]
  },
  {
   "cell_type": "code",
   "execution_count": 22,
   "id": "90c73ecd",
   "metadata": {},
   "outputs": [
    {
     "data": {
      "image/png": "[encoded data removed]",
      "text/plain": [
       "<Figure size 432x288 with 1 Axes>"
      ]
     },
     "metadata": {
      "needs_background": "light"
     },
     "output_type": "display_data"
    }
   ],
   "source": [
    "import seaborn as sns\n",
    "\n",
    "scores = {'ZR': scoresZR, 'NBG': scoresGNB, 'KMC': scoresKMC, \n",
    "         'KNN': scoresDKNN, 'AD': scoresDT}\n",
    "df = pd.DataFrame(scores)\n",
    "output = sns.boxplot(data=df)"
   ]
  },
  {
   "cell_type": "markdown",
   "id": "ea909a24",
   "metadata": {},
   "source": [
    "Para finalizar a análise dos resultados, vamos montar a tabela pareada dos resultados (p-values) dos testes de hipótese entre os pares de métodos. Na parte triangular superior estarão os resultados do teste t pareado e na parte triangular inferior estarão os resultados do teste não paramétrico de wilcoxon."
   ]
  },
  {
   "cell_type": "code",
   "execution_count": 24,
   "id": "59cd400b",
   "metadata": {},
   "outputs": [
    {
     "name": "stdout",
     "output_type": "stream",
     "text": [
      "ZeroR  0.0000000000  0.0000000000  0.0000000000  0.0000000000  \n",
      "\n",
      "0.0000008057  NB  0.0815437385  0.0527121786  0.0000000040  \n",
      "\n",
      "0.0000012227  0.0704556178  KMC  0.7853676294  0.0000018952  \n",
      "\n",
      "0.0000012490  0.1145886794  0.9628924378  KNN  0.0000000255  \n",
      "\n",
      "0.0000014923  0.0000096559  0.0001441243  0.0000112140  AD  \n",
      "\n"
     ]
    }
   ],
   "source": [
    "from scipy.stats import ttest_rel, wilcoxon\n",
    "\n",
    "tabelaPareada = [[0 for x in range(5)] for y in range(5)]\n",
    "\n",
    "tabelaPareada[0][0] = ('ZeroR', scoresZR)\n",
    "tabelaPareada[1][1] = ('NB', scoresGNB)\n",
    "tabelaPareada[2][2] = ('KMC', scoresKMC)\n",
    "tabelaPareada[3][3] = ('KNN', scoresDKNN)\n",
    "tabelaPareada[4][4] = ('AD', scoresDT)\n",
    "\n",
    "for i in range(0, 5):\n",
    "    for j in range(0, 5):\n",
    "        if i != j:\n",
    "            if i < j:\n",
    "                s, p = ttest_rel(tabelaPareada[i][i][1], \n",
    "                                 tabelaPareada[j][j][1])\n",
    "            if i > j:\n",
    "                s, p = wilcoxon(tabelaPareada[i][i][1], \n",
    "                                tabelaPareada[j][j][1])\n",
    "            tabelaPareada[i][j] = p\n",
    "\n",
    "for i in range(0, 5):\n",
    "    for j in range(0, 5):\n",
    "        if i == j:\n",
    "            print(tabelaPareada[i][j][0], \" \", end=\"\")\n",
    "        else:\n",
    "            print(\"%0.10f\" % tabelaPareada[i][j], \" \", end=\"\")\n",
    "    print(\"\\n\")"
   ]
  },
  {
   "cell_type": "code",
   "execution_count": null,
   "id": "fc381dca",
   "metadata": {},
   "outputs": [],
   "source": []
  }
 ],
 "metadata": {
  "kernelspec": {
   "display_name": "Python 3 (ipykernel)",
   "language": "python",
   "name": "python3"
  },
  "language_info": {
   "codemirror_mode": {
    "name": "ipython",
    "version": 3
   },
   "file_extension": ".py",
   "mimetype": "text/x-python",
   "name": "python",
   "nbconvert_exporter": "python",
   "pygments_lexer": "ipython3",
   "version": "3.8.10"
  }
 },
 "nbformat": 4,
 "nbformat_minor": 5
}
